{
 "cells": [
  {
   "cell_type": "code",
   "execution_count": 36,
   "metadata": {},
   "outputs": [],
   "source": [
    "import numpy as np\n",
    "import matplotlib.pyplot as plt\n",
    "import matplotlib.cm as cm\n",
    "import time"
   ]
  },
  {
   "cell_type": "code",
   "execution_count": 2,
   "metadata": {},
   "outputs": [
    {
     "name": "stdout",
     "output_type": "stream",
     "text": [
      "Overwriting miller_rabin.c\n"
     ]
    }
   ],
   "source": [
    "%%file miller_rabin.c\n",
    "\n",
    "#include <stdio.h>\n",
    "#include <string.h>\n",
    "#include <stdlib.h>\n",
    "\n",
    "int goldbach(long long g);\n",
    "int primo (long long p,int n);\n",
    "long long modulo(long long base, long long exponent, long long mod);\n",
    "long long mulmod(long long a, long long b, long long mod);\n",
    "\n",
    "int goldbach(long long  g){\n",
    "    long long  i = 2;\n",
    "    int n = 5;\n",
    "    for (long long  j = g-i; j > 2; j--)\n",
    "    {\n",
    "        if(primo(i,n) == 1 && primo(j,n) == 1)\n",
    "        {\n",
    "            return 1;\n",
    "        }\n",
    "        if(i == 2)\n",
    "        {\n",
    "        \ti++;\n",
    "        }else\n",
    "        {\n",
    "        \ti+=2;\n",
    "        }\n",
    "        \n",
    "    }\n",
    "    return 0;\n",
    "}\n",
    "\n",
    "int primo(long long p,int n)\n",
    "{\n",
    " \n",
    "    int i;\n",
    "    long long s;\n",
    "    if (p < 2)\n",
    "    {\n",
    "        return 0;\n",
    "    }\n",
    "    if (p != 2 && p % 2==0)\n",
    "    {\n",
    "        return 0;\n",
    "    }\n",
    "     s = p - 1;\n",
    "    while (s % 2 == 0)\n",
    "    {\n",
    "        s /= 2;\n",
    "    }\n",
    "    for (i = 0; i < n; i++)\n",
    "    {\n",
    "        long long a = rand() % (p - 1) + 1;\n",
    "        long long temp = s;\n",
    "        long long mod = modulo(a, temp, p);\n",
    "        while (temp != p - 1 && mod != 1 && mod != p - 1)\n",
    "        {\n",
    "            mod = mulmod(mod, mod, p);\n",
    "            temp *= 2;\n",
    "        }\n",
    "        if (mod != p - 1 && temp % 2 == 0)\n",
    "        {\n",
    "            return 0;\n",
    "        }\n",
    "    }\n",
    "    return 1;\n",
    "}\n",
    "\n",
    "long long modulo(long long base, long long exponent, long long mod)\n",
    "{\n",
    "    long long x = 1;\n",
    "    long long y = base;\n",
    "    while (exponent > 0)\n",
    "    {\n",
    "        if (exponent % 2 == 1)\n",
    "            x = (x * y) % mod;\n",
    "        y = (y * y) % mod;\n",
    "        exponent = exponent / 2;\n",
    "    }\n",
    "    return x % mod;\n",
    "}\n",
    " \n",
    "long long mulmod(long long a, long long b, long long mod)\n",
    "{\n",
    "    long long x = 0,y = a % mod;\n",
    "    while (b > 0)\n",
    "    {\n",
    "        if (b % 2 == 1)\n",
    "        {    \n",
    "            x = (x + y) % mod;\n",
    "        }\n",
    "        y = (y * 2) % mod;\n",
    "        b /= 2;\n",
    "    }\n",
    "    return x % mod;\n",
    "}"
   ]
  },
  {
   "cell_type": "code",
   "execution_count": 3,
   "metadata": {},
   "outputs": [],
   "source": [
    "!gcc -c -O2 -o miller_rabin.o miller_rabin.c\n",
    "!gcc -o libmiller_rabin.so -shared miller_rabin.o"
   ]
  },
  {
   "cell_type": "code",
   "execution_count": 4,
   "metadata": {},
   "outputs": [
    {
     "name": "stdout",
     "output_type": "stream",
     "text": [
      "libmiller_rabin.so: Mach-O 64-bit dynamically linked shared library x86_64\r\n"
     ]
    }
   ],
   "source": [
    "!file libmiller_rabin.so"
   ]
  },
  {
   "cell_type": "code",
   "execution_count": 5,
   "metadata": {},
   "outputs": [
    {
     "name": "stdout",
     "output_type": "stream",
     "text": [
      "Overwriting miller_rabin.py\n"
     ]
    }
   ],
   "source": [
    "%%file miller_rabin.py\n",
    "\n",
    "import numpy \n",
    "import ctypes\n",
    "\n",
    "_libmiller_rabin = numpy.ctypeslib.load_library('libmiller_rabin.so', '.')\n",
    "\n",
    "_libmiller_rabin.goldbach.argtypes = [ctypes.c_longlong]\n",
    "_libmiller_rabin.goldbach.restype  = ctypes.c_int\n",
    "\n",
    "\n",
    "def goldbach(num):\n",
    "    n = _libmiller_rabin.goldbach(num)\n",
    "    return n"
   ]
  },
  {
   "cell_type": "code",
   "execution_count": 6,
   "metadata": {},
   "outputs": [
    {
     "name": "stdout",
     "output_type": "stream",
     "text": [
      "Overwriting fermat.c\n"
     ]
    }
   ],
   "source": [
    "%%file fermat.c\n",
    "\n",
    "#include <stdio.h>\n",
    "#include <string.h>\n",
    "#include <stdlib.h>\n",
    "\n",
    "int goldbach(long long g);\n",
    "int primo (long long p,int n);\n",
    "long long modulo(long long base, long long exponent, long long mod);\n",
    "\n",
    "int goldbach(long long  g){\n",
    "    long long  i = 2;\n",
    "    int n = 5;\n",
    "    for (long long  j = g-i; j > 2; j--)\n",
    "    {\n",
    "        if(primo(i,n) == 1 && primo(j,n) == 1)\n",
    "        {\n",
    "            return 1;\n",
    "        }\n",
    "        if(i == 2)\n",
    "        {\n",
    "        \ti++;\n",
    "        }else\n",
    "        {\n",
    "        \ti+=2;\n",
    "        }\n",
    "        \n",
    "    }\n",
    "    return 0;\n",
    "}\n",
    "int primo(long long p,int n)\n",
    "{\n",
    "    if (p < 2)\n",
    "    {\n",
    "        return 0;\n",
    "    }\n",
    "    if (p != 2 && p % 2==0)\n",
    "    {\n",
    "        return 0;\n",
    "    }\n",
    "    for (int i = 0; i < n; i++)\n",
    "    {\n",
    "        long long a = rand() % (p - 1) + 1; \n",
    "        if (modulo(a, p - 1, p) != 1)\n",
    "        { \n",
    "            return 0;\n",
    "        }\n",
    "    }\n",
    "    return 1;\n",
    "}\n",
    "\n",
    "long long modulo(long long base, long long exponent, long long mod)\n",
    "{\n",
    "    long long x = 1;\n",
    "    long long y = base;\n",
    "    while (exponent > 0)\n",
    "    {\n",
    "        if (exponent % 2 == 1)\n",
    "            x = (x * y) % mod;\n",
    "        y = (y * y) % mod;\n",
    "        exponent = exponent / 2;\n",
    "    }\n",
    "    return x % mod;\n",
    "}"
   ]
  },
  {
   "cell_type": "code",
   "execution_count": 7,
   "metadata": {},
   "outputs": [],
   "source": [
    "!gcc -c -O2 -o fermat.o fermat.c\n",
    "!gcc -o libfermat.so -shared fermat.o"
   ]
  },
  {
   "cell_type": "code",
   "execution_count": 8,
   "metadata": {},
   "outputs": [
    {
     "name": "stdout",
     "output_type": "stream",
     "text": [
      "libfermat.so: Mach-O 64-bit dynamically linked shared library x86_64\r\n"
     ]
    }
   ],
   "source": [
    "!file libfermat.so"
   ]
  },
  {
   "cell_type": "code",
   "execution_count": 9,
   "metadata": {},
   "outputs": [
    {
     "name": "stdout",
     "output_type": "stream",
     "text": [
      "Overwriting fermat.py\n"
     ]
    }
   ],
   "source": [
    "%%file fermat.py\n",
    "\n",
    "import numpy \n",
    "import ctypes\n",
    "\n",
    "_libfermat = numpy.ctypeslib.load_library('libmiller_rabin.so', '.')\n",
    "\n",
    "_libfermat.goldbach.argtypes = [ctypes.c_longlong]\n",
    "_libfermat.goldbach.restype  = ctypes.c_int\n",
    "\n",
    "\n",
    "def goldbach(num):\n",
    "    n = _libfermat.goldbach(num)\n",
    "    return n"
   ]
  },
  {
   "cell_type": "code",
   "execution_count": 10,
   "metadata": {},
   "outputs": [
    {
     "name": "stdout",
     "output_type": "stream",
     "text": [
      "Overwriting prime.c\n"
     ]
    }
   ],
   "source": [
    "%%file prime.c\n",
    "\n",
    "#include <stdio.h>\n",
    "#include <string.h>\n",
    "#include <stdlib.h>\n",
    "\n",
    "int goldbach(long long g);\n",
    "int primo (long long p);\n",
    "\n",
    "int goldbach(long long  g){\n",
    "    long long  i = 2;\n",
    "    int n = 5;\n",
    "    for (long long  j = g-i; j > 2; j--)\n",
    "    {\n",
    "        if(primo(i) == 1 && primo(j) == 1)\n",
    "        {\n",
    "            return 1;\n",
    "        }\n",
    "        if(i == 2)\n",
    "        {\n",
    "        \ti++;\n",
    "        }else\n",
    "        {\n",
    "        \ti+=2;\n",
    "        }\n",
    "        \n",
    "    }\n",
    "    return 0;\n",
    "}\n",
    "\n",
    "int primo(long long p)\n",
    "{\n",
    "    int flag = 1;\n",
    "    for (int i = 2; i < p/2; i++)\n",
    "    {\n",
    "        if((p%i) == 0){\n",
    "            return flag-1;\n",
    "        }\n",
    "    }\n",
    "    return flag;\n",
    "}"
   ]
  },
  {
   "cell_type": "code",
   "execution_count": 11,
   "metadata": {},
   "outputs": [],
   "source": [
    "!gcc -c -O2 -o prime.o prime.c\n",
    "!gcc -o libprime.so -shared prime.o"
   ]
  },
  {
   "cell_type": "code",
   "execution_count": 12,
   "metadata": {},
   "outputs": [
    {
     "name": "stdout",
     "output_type": "stream",
     "text": [
      "libprime.so: Mach-O 64-bit dynamically linked shared library x86_64\r\n"
     ]
    }
   ],
   "source": [
    "!file libprime.so"
   ]
  },
  {
   "cell_type": "code",
   "execution_count": 13,
   "metadata": {},
   "outputs": [
    {
     "name": "stdout",
     "output_type": "stream",
     "text": [
      "Overwriting prime.py\n"
     ]
    }
   ],
   "source": [
    "%%file prime.py\n",
    "\n",
    "import numpy \n",
    "import ctypes\n",
    "\n",
    "_libprime = numpy.ctypeslib.load_library('libmiller_rabin.so', '.')\n",
    "\n",
    "_libprime.goldbach.argtypes = [ctypes.c_longlong]\n",
    "_libprime.goldbach.restype  = ctypes.c_int\n",
    "\n",
    "\n",
    "def goldbach(num):\n",
    "    n = _libprime.goldbach(num)\n",
    "    return n"
   ]
  },
  {
   "cell_type": "code",
   "execution_count": 16,
   "metadata": {},
   "outputs": [],
   "source": [
    "import miller_rabin\n",
    "import fermat\n",
    "import prime"
   ]
  },
  {
   "cell_type": "code",
   "execution_count": 18,
   "metadata": {},
   "outputs": [],
   "source": [
    "max = 10000000\n",
    "min = 1000000"
   ]
  },
  {
   "cell_type": "code",
   "execution_count": 19,
   "metadata": {},
   "outputs": [],
   "source": [
    "mx=np.arange(min,max,2)\n",
    "my=np.arange(len(mx))\n",
    "for i in range(len(mx)):\n",
    "    start = time.time()\n",
    "    miller_rabin.goldbach(mx[i])\n",
    "    end = time.time()\n",
    "    my[i]=abs(start-end)*1000"
   ]
  },
  {
   "cell_type": "code",
   "execution_count": 20,
   "metadata": {},
   "outputs": [],
   "source": [
    "fx=np.arange(min,max,2)\n",
    "fy=np.arange(len(fx))\n",
    "for i in range(len(fx)):\n",
    "    start = time.time()\n",
    "    fermat.goldbach(fx[i])\n",
    "    end = time.time()\n",
    "    fy[i]=abs(start-end)*1000"
   ]
  },
  {
   "cell_type": "code",
   "execution_count": 21,
   "metadata": {},
   "outputs": [],
   "source": [
    "px=np.arange(min,max,2)\n",
    "py=np.arange(len(px))\n",
    "for i in range(len(px)):\n",
    "    start = time.time()\n",
    "    prime.goldbach(px[i])\n",
    "    end = time.time()\n",
    "    py[i]=abs(start-end)*1000"
   ]
  },
  {
   "cell_type": "code",
   "execution_count": 28,
   "metadata": {},
   "outputs": [
    {
     "data": {
      "image/png": "[encoded data removed]",
      "text/plain": [
       "<Figure size 432x288 with 1 Axes>"
      ]
     },
     "metadata": {
      "needs_background": "light"
     },
     "output_type": "display_data"
    }
   ],
   "source": [
    "plt.plot(mx,my,'-r')\n",
    "plt.grid(True)"
   ]
  },
  {
   "cell_type": "code",
   "execution_count": 33,
   "metadata": {},
   "outputs": [
    {
     "data": {
      "image/png": "[encoded data removed]",
      "text/plain": [
       "<Figure size 432x288 with 1 Axes>"
      ]
     },
     "metadata": {
      "needs_background": "light"
     },
     "output_type": "display_data"
    }
   ],
   "source": [
    "plt.plot(fx,fy,'.-b')\n",
    "plt.grid(True)\n",
    "#plt.axis([min,max,0,1])"
   ]
  },
  {
   "cell_type": "code",
   "execution_count": 31,
   "metadata": {},
   "outputs": [
    {
     "data": {
      "image/png": "[encoded data removed]",
      "text/plain": [
       "<Figure size 432x288 with 1 Axes>"
      ]
     },
     "metadata": {
      "needs_background": "light"
     },
     "output_type": "display_data"
    }
   ],
   "source": [
    "plt.plot(px,py,'.-g')\n",
    "plt.grid(True)"
   ]
  },
  {
   "cell_type": "code",
   "execution_count": 30,
   "metadata": {},
   "outputs": [
    {
     "data": {
      "image/png": "[encoded data removed]",
      "text/plain": [
       "<Figure size 432x288 with 1 Axes>"
      ]
     },
     "metadata": {
      "needs_background": "light"
     },
     "output_type": "display_data"
    }
   ],
   "source": [
    "plt.plot(mx,my,'.-r')\n",
    "plt.plot(fx,fy,'.-b')\n",
    "plt.plot(px,py,'.-g')\n",
    "plt.grid(True)"
   ]
  }
 ],
 "metadata": {
  "kernelspec": {
   "display_name": "Python 3",
   "language": "python",
   "name": "python3"
  },
  "language_info": {
   "codemirror_mode": {
    "name": "ipython",
    "version": 3
   },
   "file_extension": ".py",
   "mimetype": "text/x-python",
   "name": "python",
   "nbconvert_exporter": "python",
   "pygments_lexer": "ipython3",
   "version": "3.8.5"
  }
 },
 "nbformat": 4,
 "nbformat_minor": 4
}
